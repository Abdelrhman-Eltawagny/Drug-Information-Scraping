{
 "cells": [
  {
   "cell_type": "code",
   "execution_count": 3,
   "id": "31282d39",
   "metadata": {
    "scrolled": true
   },
   "outputs": [],
   "source": [
    "from bs4 import BeautifulSoup\n",
    "import requests \n",
    "import re\n",
    "from selenium import webdriver\n",
    "from selenium.webdriver.common.keys import Keys\n",
    "from selenium.webdriver.support.ui import WebDriverWait\n",
    "from selenium.webdriver.support import expected_conditions as EC\n",
    "from selenium.webdriver.common.by import By"
   ]
  },
  {
   "cell_type": "code",
   "execution_count": 4,
   "id": "09adb58c",
   "metadata": {},
   "outputs": [],
   "source": [
    "def first_processing(feature , feature_name):\n",
    "    \"\"\"This fuction return None if there is no information avaliable about drugs and return information if information about drugs is avaliable\"\"\"\n",
    "    print('\\n')\n",
    "    if feature == None :\n",
    "        print(feature_name , ':' , 'None')\n",
    "    else:\n",
    "        print(feature_name  , ':' , feature.text)"
   ]
  },
  {
   "cell_type": "code",
   "execution_count": 5,
   "id": "eb763291",
   "metadata": {},
   "outputs": [],
   "source": [
    "def second_processing(feature , feature_name):\n",
    "    \"\"\"This fuction return None if there is no information avaliable about drugs and return information if information about drugs is avaliable\"\"\"\n",
    "    if feature ==  [] or feature == ():\n",
    "        print(feature_name , ':' , 'None')\n",
    "    else:\n",
    "        print(feature_name  , ':' , feature[0])"
   ]
  },
  {
   "cell_type": "code",
   "execution_count": 6,
   "id": "cedbc3bc",
   "metadata": {},
   "outputs": [
    {
     "name": "stdout",
     "output_type": "stream",
     "text": [
      "Please enter name of drug : Histazen \n",
      "Description :  Histamine H1 antagonist belongs to the second-generation antihistamines (Piperazine derivative) used in the treatment of allergic rhinitis and allergic conjunctivitis, urticaria, angioedema and anaphylaxis.\n",
      "\n",
      "\n",
      "Indication : None\n",
      "\n",
      "\n",
      "Active ingredients :  Cetirizine\n",
      "\n",
      "\n",
      "Dosage : None\n",
      "\n",
      "\n",
      "Side Effects : None\n",
      "\n",
      "\n",
      "Storage : None\n",
      "\n",
      "\n",
      "Drug interactions : None\n",
      "\n",
      "\n",
      "Manufacture : AMRIYA\n"
     ]
    }
   ],
   "source": [
    "# Launch the Chrome browser and navigate to the website\n",
    "options = webdriver.ChromeOptions()\n",
    "options.add_argument('--headless')\n",
    "options.add_argument(\"user-agent=Mozilla/5.0 (Windows NT 10.0; Win64; x64) AppleWebKit/537.36 (KHTML, like Gecko) Chrome/87.0.4280.88 Safari/537.36\")\n",
    "\n",
    "driver = webdriver.Chrome(options=options)\n",
    "#driver = webdriver.Chrome()\n",
    "\n",
    "driver.get(\"https://www.vezeeta.com/en-eg/pharmacy\")\n",
    "\n",
    "#allow user to input the name of drug  \n",
    "drug_name = input('Please enter name of drug : ')\n",
    "\n",
    "# Find the search box and input drug name \n",
    "search_box = WebDriverWait(driver , 10).until(EC.presence_of_element_located((By.ID, \"search-input\")))\n",
    "search_box.clear()\n",
    "search_box.send_keys(drug_name)\n",
    "search_box.send_keys(Keys.RETURN)\n",
    "\n",
    "# Wait for the first option in the dropdown to appear and click on it\n",
    "first_option = WebDriverWait(driver, 10).until(EC.presence_of_element_located((By.XPATH, \"//li[@class='ItemCardstyle__Card-sc-1fei2io-0 lcRscm']\")))\n",
    "first_option.click()\n",
    "\n",
    "#Open the option that choose from dropdown menu in new window and get content of this page\n",
    "driver.switch_to.window(driver.window_handles[-1])\n",
    "content = driver.page_source\n",
    "soup = BeautifulSoup(content, features='html.parser')\n",
    "    \n",
    "#Get all information about drug\n",
    "all_info = soup.find('div' , class_ = 'Productstyle__ProductSideInfo-stlavj-11 VTzhP')\n",
    "content_text = all_info.text\n",
    "\n",
    "#Get description of drug\n",
    "description = soup.find('div' , {'data-testid' : 'description-product'}).text\n",
    "print('Description : ', description)\n",
    "\n",
    "#Get drug indication\n",
    "indication = soup.find('div' , {'data-testid' : 'data-indication-usage-product'})\n",
    "first_processing(indication , 'Indication')\n",
    "\n",
    "#Get active ingredients of drug \n",
    "active_ingredients = soup.find('span' , {'data-testid' : 'tag-0-active-ingredients-product'}).text\n",
    "print('\\n')\n",
    "print('Active ingredients : ', active_ingredients)\n",
    "\n",
    "#Get drug dosage\n",
    "dosage = soup.find('div' , {'data-testid' : 'dosage-and-administration-product'})\n",
    "first_processing(dosage , 'Dosage')\n",
    "\n",
    "#Get drug side effects \n",
    "side_effects = soup.find('div' , {'data-testid' : 'side-effects-product'})\n",
    "first_processing(side_effects , 'Side Effects')\n",
    "print('\\n')\n",
    "\n",
    "\n",
    "# Find the matching pattern in the text\n",
    "storage = re.findall(\"Storage\\s*([^D]+)\", content_text)\n",
    "second_processing(storage , 'Storage')\n",
    "print('\\n')\n",
    "\n",
    "\n",
    "# Find the matching pattern in the text\n",
    "drug_interactions = re.findall('Drug Interactions\\s*([^P]+)' , content_text)\n",
    "second_processing(drug_interactions , 'Drug interactions')\n",
    "print('\\n')\n",
    "\n",
    "\n",
    "# Find the matching pattern in the text\n",
    "manufacture = re.findall('Manufacture(\\w+)' , content_text)\n",
    "second_processing(manufacture , 'Manufacture')\n",
    "\n",
    "driver.quit()"
   ]
  },
  {
   "cell_type": "code",
   "execution_count": null,
   "id": "f8391ef1",
   "metadata": {},
   "outputs": [],
   "source": []
  }
 ],
 "metadata": {
  "kernelspec": {
   "display_name": "Python 3 (ipykernel)",
   "language": "python",
   "name": "python3"
  },
  "language_info": {
   "codemirror_mode": {
    "name": "ipython",
    "version": 3
   },
   "file_extension": ".py",
   "mimetype": "text/x-python",
   "name": "python",
   "nbconvert_exporter": "python",
   "pygments_lexer": "ipython3",
   "version": "3.9.7"
  }
 },
 "nbformat": 4,
 "nbformat_minor": 5
}
